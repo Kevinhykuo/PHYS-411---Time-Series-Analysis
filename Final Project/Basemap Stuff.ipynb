{
 "cells": [
  {
   "cell_type": "code",
   "execution_count": null,
   "metadata": {},
   "outputs": [],
   "source": [
    "from mpl_toolkits.basemap import Basemap"
   ]
  },
  {
   "cell_type": "code",
   "execution_count": 19,
   "metadata": {},
   "outputs": [],
   "source": [
    "# Basemap version MAP\n",
    "# -------------------\n",
    "# mapx = 8\n",
    "# mapy = 8\n",
    "\n",
    "# plt.figure('Map', figsize=(mapx, mapy))\n",
    "# Map = Basemap(projection='gnom', lat_0 = 48.53, lon_0 = -123.50, \n",
    "#                 width=mapx/2 * 10**4, height=mapy/2 * 10**4, resolution='f')\n",
    "\n",
    "# lon, lat = Map(Lon, Lat)\n",
    "\n",
    "# Map.fillcontinents(color=\"#c6ebc6\", lake_color='#DDEEFF')\n",
    "# Map.drawmapboundary(fill_color=\"#DDEEFF\")\n",
    "# Map.drawcoastlines()\n",
    "# Map.drawparallels(np.arange(48.3, 49, 0.05), labels=[0, 1, 1, 0])\n",
    "# Map.drawmeridians(np.arange(-124.0, -123.3, 0.1), labels=[1, 0, 0, 1])\n",
    "\n",
    "# maptitle = 'Location of weather temperature measurement stations in south-east Vancouver Island'\n",
    "# plt.title(\"\\n\".join(wrap(maptitle, 80)))\n",
    "# # plt.xlabel('Longitude')\n",
    "# # plt.ylabel('Latitude')\n",
    "# Map.plot(lon, lat, marker='o', color='#CC00CC', markersize=4, linewidth=0)\n",
    "# plt.show()"
   ]
  }
 ],
 "metadata": {
  "kernelspec": {
   "display_name": "Python 3",
   "language": "python",
   "name": "python3"
  },
  "language_info": {
   "codemirror_mode": {
    "name": "ipython",
    "version": 3
   },
   "file_extension": ".py",
   "mimetype": "text/x-python",
   "name": "python",
   "nbconvert_exporter": "python",
   "pygments_lexer": "ipython3",
   "version": "3.7.1"
  }
 },
 "nbformat": 4,
 "nbformat_minor": 2
}
