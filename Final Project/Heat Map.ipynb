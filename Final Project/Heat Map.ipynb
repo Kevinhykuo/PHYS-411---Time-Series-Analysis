{
 "cells": [
  {
   "cell_type": "code",
   "execution_count": 1,
   "metadata": {},
   "outputs": [],
   "source": [
    "import numpy as np\n",
    "import pandas as pd \n",
    "import scipy as sci\n",
    "import matplotlib as mp\n",
    "import matplotlib.pyplot as plt\n",
    "import seaborn as sns\n",
    "import datetime as dt\n",
    "\n",
    "from itertools import chain\n",
    "from numpy import pi, cos, sin, exp, sqrt\n",
    "from scipy.signal import freqz, welch, periodogram, butter, lfilter, filtfilt, boxcar\n",
    "\n",
    "from matplotlib.dates import DateFormatter, MinuteLocator, HourLocator, MonthLocator\n",
    "from matplotlib.ticker import FormatStrFormatter, StrMethodFormatter\n",
    "from matplotlib.ticker import FixedFormatter\n",
    "\n",
    "from mpl_toolkits.basemap import Basemap\n",
    "from textwrap import wrap\n",
    "\n",
    "%matplotlib inline\n",
    "%config InlineBackend.figure_format = 'pdf'\n",
    "# %matplotlib notebook"
   ]
  },
  {
   "cell_type": "markdown",
   "metadata": {},
   "source": [
    "## Import and clean up the data"
   ]
  },
  {
   "cell_type": "code",
   "execution_count": 2,
   "metadata": {},
   "outputs": [],
   "source": [
    "# Import data\n",
    "# All data (hour resolution)\n",
    "AS = pd.read_csv('/Users/Kev/Documents/Uvic/Python/PHYS 411 - Time Series Analysis/Data Sets/AllStations_temperature_h_2017.dat', \n",
    "                 sep='\\s+', header=[0, 1])"
   ]
  },
  {
   "cell_type": "code",
   "execution_count": 3,
   "metadata": {},
   "outputs": [],
   "source": [
    "# Individual stations (minuite resolution)\n",
    "DC = pd.read_csv('/Users/Kev/Documents/Uvic/Python/PHYS 411 - Time Series Analysis/Data Sets/DeepCove_temperature.dat', \n",
    "                 header=2)\n",
    "\n",
    "DE = pd.read_csv('/Users/Kev/Documents/Uvic/Python/PHYS 411 - Time Series Analysis/Data Sets/DiscoveryElementary_temperature.dat', \n",
    "                 header=2)\n",
    "\n",
    "HL = pd.read_csv('/Users/Kev/Documents/Uvic/Python/PHYS 411 - Time Series Analysis/Data Sets/Helgesen_temperature.dat', \n",
    "                 header=2)\n",
    "\n",
    "JB = pd.read_csv('/Users/Kev/Documents/Uvic/Python/PHYS 411 - Time Series Analysis/Data Sets/JamesBay_temperature.dat', \n",
    "                 header=2)\n",
    "\n",
    "JM = pd.read_csv('/Users/Kev/Documents/Uvic/Python/PHYS 411 - Time Series Analysis/Data Sets/JohnMuir_temperature.dat', \n",
    "                 header=2)\n",
    "\n",
    "KT = pd.read_csv('/Users/Kev/Documents/Uvic/Python/PHYS 411 - Time Series Analysis/Data Sets/Keating_temperature.dat', \n",
    "                 header=2)\n",
    "\n",
    "US = pd.read_csv('/Users/Kev/Documents/Uvic/Python/PHYS 411 - Time Series Analysis/Data Sets/UVicSci_temperature.dat', \n",
    "                 header=2)\n",
    "\n",
    "# Coastline \n",
    "MAP = pd.read_csv('/Users/Kev/Documents/Uvic/Python/PHYS 411 - Time Series Analysis/Data Sets/DataCoast.dat', \n",
    "                 sep='\\s+', names = [\"Lon\", \"Lat\"])"
   ]
  },
  {
   "cell_type": "markdown",
   "metadata": {},
   "source": [
    "### Clean up the All Stations data"
   ]
  },
  {
   "cell_type": "code",
   "execution_count": 4,
   "metadata": {},
   "outputs": [],
   "source": [
    "# Convert times from MatLab time to Python Time\n",
    "AS['Time'] = AS['NaN', 'NaN'].apply(lambda matlab_datenum: \n",
    "                             dt.datetime.fromordinal(int(matlab_datenum)) \n",
    "                             + dt.timedelta(days=matlab_datenum%1)\n",
    "                             - dt.timedelta(days = 366)) \n",
    "\n",
    "# Rename the columns\n",
    "AS2 = AS.rename(index=str, columns={\"NaN\": \"MatLab Time\"})\n",
    "\n",
    "# Set time as index column\n",
    "AS3 = AS2.set_index('Time')\n",
    "\n",
    "# Get the longitudes correct \n",
    "for i in range(1, np.shape(AS3)[1]):\n",
    "    New_name = float(list(AS3)[i][1]) - 360\n",
    "    AS3 = AS3.rename(columns={list(AS)[i][1]: str(format(New_name, '.4f'))})\n",
    "\n",
    "AS4 = AS3.drop('MatLab Time', axis=1, level=1)\n",
    "    \n",
    "AS = AS4"
   ]
  },
  {
   "cell_type": "markdown",
   "metadata": {},
   "source": [
    "### Clean up the minute resolution data"
   ]
  },
  {
   "cell_type": "code",
   "execution_count": 5,
   "metadata": {},
   "outputs": [],
   "source": [
    "def DateInsert(Data):\n",
    "    date = pd.date_range(start='2011-12-31 17:00:00.000000', \n",
    "                     freq='min', periods = len(Data))\n",
    "    # Insert dates into D2 dataframe\n",
    "    Data.insert(loc=0, column='Time', value=date)\n",
    "    # Rename the columns\n",
    "    D1 = Data.rename(index=str, columns={Data.columns[1]: \"Temperature\"})\n",
    "    # Set index\n",
    "    DM = D1.set_index('Time')\n",
    "    return DM"
   ]
  },
  {
   "cell_type": "code",
   "execution_count": 6,
   "metadata": {},
   "outputs": [],
   "source": [
    "DataM = [DC, DE, HL, JB, JM, KT, US]\n",
    "DataMLabels = ['Deep Cove', 'Discovery', 'Helgesen', 'James Bay', 'John Muir', 'Keating', 'UVicSci']"
   ]
  },
  {
   "cell_type": "code",
   "execution_count": 7,
   "metadata": {},
   "outputs": [],
   "source": [
    "DataMIns = [DateInsert(DataM[i]) for i in range(0, len(DataM))]"
   ]
  },
  {
   "cell_type": "code",
   "execution_count": 8,
   "metadata": {},
   "outputs": [],
   "source": [
    "Mn = {\n",
    "    \"DC\" : DataMIns[0]['Temperature'],\n",
    "    \"DE\" : DataMIns[1]['Temperature'],\n",
    "    \"HL\" : DataMIns[2]['Temperature'],\n",
    "    \"JB\" : DataMIns[3]['Temperature'],\n",
    "    \"JM\" : DataMIns[4]['Temperature'],\n",
    "    \"KT\" : DataMIns[5]['Temperature'],\n",
    "    \"US\" : DataMIns[6]\n",
    "}"
   ]
  },
  {
   "cell_type": "markdown",
   "metadata": {},
   "source": [
    "## Plot the heatmap "
   ]
  },
  {
   "cell_type": "code",
   "execution_count": 20,
   "metadata": {},
   "outputs": [],
   "source": [
    "def plot_heatmap(Array, t_0='', t_f='', tick_frequency='D', Sort_by_Lat=True, North_to_South=True,\n",
    "                 FS=(20, 4), CMap='bwr', dateformat='%d-%m-%Y', \n",
    "                 YLabel=r'Location [$^\\circ$ N, $^\\circ$ W]',\n",
    "                 Station='WUT STATION(S) YA DONKEY?!?!?!'):\n",
    "    \n",
    "    AS_PlotR = Array.loc[t_0 : t_f]\n",
    "    \n",
    "    if Sort_by_Lat == True: \n",
    "        AS_Plot = AS_PlotR.reindex(sorted(AS_PlotR.columns, reverse=North_to_South), axis=1)\n",
    "    else: \n",
    "        AS_Plot = AS_PlotR\n",
    "    \n",
    "    # Date ranges to cover \n",
    "    t_range = pd.date_range(AS_Plot.index[0], AS_Plot.index[-1], freq=tick_frequency)\n",
    "   \n",
    "    # Spacing of xtick lables in the heatmap\n",
    "    spacing = int(np.shape(AS_Plot)[0]/len(t_range))\n",
    "\n",
    "    # Plot the heatmap\n",
    "    fig, ax = plt.subplots(figsize=FS)\n",
    "    AS_HM = sns.heatmap(data=AS_Plot.transpose(), cmap=CMap, xticklabels=spacing)\n",
    "\n",
    "    # Change the xticks format \n",
    "    xticks = AS_HM.get_xticks()\n",
    "    xformat = [i.strftime(dateformat) for i in t_range]\n",
    "    plt.xticks(xticks, xformat, rotation=90)\n",
    "\n",
    "    # Change the yticks format \n",
    "    yticks = AS_HM.get_yticks()\n",
    "    yformat = [[list(AS_Plot)[i][0], list(AS_Plot)[i][1]] for i in range(np.shape(AS_Plot)[1])]\n",
    "    plt.yticks(yticks, yformat)\n",
    "\n",
    "    plt.ylabel(YLabel)\n",
    "    plt.title('Heat map of {0} from {1} to {2}'.format(Station, t_0, t_f))\n",
    "    sns.despine()\n",
    "    plt.show()"
   ]
  },
  {
   "cell_type": "code",
   "execution_count": null,
   "metadata": {},
   "outputs": [],
   "source": [
    "plot_heatmap(AS, tick_frequency='m', t_0='2016-01-01 00:00', t_f='2016-12-31 23:00', Station='all stations')   "
   ]
  }
 ],
 "metadata": {
  "kernelspec": {
   "display_name": "Python 3",
   "language": "python",
   "name": "python3"
  },
  "language_info": {
   "codemirror_mode": {
    "name": "ipython",
    "version": 3
   },
   "file_extension": ".py",
   "mimetype": "text/x-python",
   "name": "python",
   "nbconvert_exporter": "python",
   "pygments_lexer": "ipython3",
   "version": "3.7.1"
  }
 },
 "nbformat": 4,
 "nbformat_minor": 2
}
