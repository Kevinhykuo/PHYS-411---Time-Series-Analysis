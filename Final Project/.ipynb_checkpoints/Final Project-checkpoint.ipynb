{
 "cells": [
  {
   "cell_type": "markdown",
   "metadata": {},
   "source": [
    "# Final Project "
   ]
  },
  {
   "cell_type": "code",
   "execution_count": 1,
   "metadata": {},
   "outputs": [],
   "source": [
    "import numpy as np\n",
    "import pandas as pd \n",
    "import scipy as sci\n",
    "import matplotlib as mp\n",
    "import matplotlib.pyplot as plt\n",
    "import seaborn as sns\n",
    "import datetime as dt\n",
    "\n",
    "from itertools import chain\n",
    "from numpy import pi, cos, sin, exp, sqrt\n",
    "from scipy.signal import freqz, welch, periodogram, butter, lfilter, filtfilt, boxcar\n",
    "\n",
    "from matplotlib.dates import DateFormatter, MinuteLocator, HourLocator, MonthLocator\n",
    "from matplotlib.ticker import FormatStrFormatter, StrMethodFormatter\n",
    "from matplotlib.ticker import FixedFormatter\n",
    "\n",
    "from mpl_toolkits.basemap import Basemap\n",
    "from textwrap import wrap\n",
    "\n",
    "%matplotlib inline\n",
    "%config InlineBackend.figure_format = 'pdf'\n",
    "# %matplotlib notebook"
   ]
  },
  {
   "cell_type": "markdown",
   "metadata": {},
   "source": [
    "## Import and clean up the data"
   ]
  },
  {
   "cell_type": "code",
   "execution_count": 2,
   "metadata": {},
   "outputs": [],
   "source": [
    "# Import data\n",
    "# All data (hour resolution)\n",
    "AS = pd.read_csv('/Users/Kev/Documents/Uvic/Python/PHYS 411 - Time Series Analysis/Data Sets/AllStations_temperature_h_2017.dat', \n",
    "                 sep='\\s+', header=[0, 1])"
   ]
  },
  {
   "cell_type": "code",
   "execution_count": 3,
   "metadata": {},
   "outputs": [],
   "source": [
    "# Individual stations (minuite resolution)\n",
    "DC = pd.read_csv('/Users/Kev/Documents/Uvic/Python/PHYS 411 - Time Series Analysis/Data Sets/DeepCove_temperature.dat', \n",
    "                 header=2)\n",
    "\n",
    "DE = pd.read_csv('/Users/Kev/Documents/Uvic/Python/PHYS 411 - Time Series Analysis/Data Sets/DiscoveryElementary_temperature.dat', \n",
    "                 header=2)\n",
    "\n",
    "HL = pd.read_csv('/Users/Kev/Documents/Uvic/Python/PHYS 411 - Time Series Analysis/Data Sets/Helgesen_temperature.dat', \n",
    "                 header=2)\n",
    "\n",
    "JB = pd.read_csv('/Users/Kev/Documents/Uvic/Python/PHYS 411 - Time Series Analysis/Data Sets/JamesBay_temperature.dat', \n",
    "                 header=2)\n",
    "\n",
    "JM = pd.read_csv('/Users/Kev/Documents/Uvic/Python/PHYS 411 - Time Series Analysis/Data Sets/JohnMuir_temperature.dat', \n",
    "                 header=2)\n",
    "\n",
    "KT = pd.read_csv('/Users/Kev/Documents/Uvic/Python/PHYS 411 - Time Series Analysis/Data Sets/Keating_temperature.dat', \n",
    "                 header=2)\n",
    "\n",
    "US = pd.read_csv('/Users/Kev/Documents/Uvic/Python/PHYS 411 - Time Series Analysis/Data Sets/UVicSci_temperature.dat', \n",
    "                 header=2)\n",
    "\n",
    "# Coastline \n",
    "MAP = pd.read_csv('/Users/Kev/Documents/Uvic/Python/PHYS 411 - Time Series Analysis/Data Sets/DataCoast.dat', \n",
    "                 sep='\\s+', names = [\"Lon\", \"Lat\"])"
   ]
  },
  {
   "cell_type": "markdown",
   "metadata": {},
   "source": [
    "### Clean up the All Stations data"
   ]
  },
  {
   "cell_type": "code",
   "execution_count": 4,
   "metadata": {},
   "outputs": [],
   "source": [
    "# Convert times from MatLab time to Python Time\n",
    "AS['Time'] = AS['NaN', 'NaN'].apply(lambda matlab_datenum: \n",
    "                             dt.datetime.fromordinal(int(matlab_datenum)) \n",
    "                             + dt.timedelta(days=matlab_datenum%1)\n",
    "                             - dt.timedelta(days = 366)) \n",
    "\n",
    "# Rename the columns\n",
    "AS2 = AS.rename(index=str, columns={\"NaN\": \"MatLab Time\"})\n",
    "\n",
    "# Set time as index column\n",
    "AS3 = AS2.set_index('Time')\n",
    "\n",
    "# Get the longitudes correct \n",
    "for i in range(1, np.shape(AS3)[1]):\n",
    "    New_name = float(list(AS3)[i][0]) - 360\n",
    "    AS3 = AS3.rename(columns={list(AS)[i][0]: str(format(New_name, '.4f'))})\n",
    "\n",
    "AS4 = AS3.drop('MatLab Time', axis=1, level=1)\n",
    "    \n",
    "AS = AS4"
   ]
  },
  {
   "cell_type": "markdown",
   "metadata": {},
   "source": [
    "### Clean up the minute resolution data"
   ]
  },
  {
   "cell_type": "code",
   "execution_count": 5,
   "metadata": {},
   "outputs": [],
   "source": [
    "def DateInsert(Data):\n",
    "    date = pd.date_range(start='2011-12-31 17:00:00.000000', \n",
    "                     freq='min', periods = len(Data))\n",
    "    # Insert dates into D2 dataframe\n",
    "    Data.insert(loc=0, column='Time', value=date)\n",
    "    # Rename the columns\n",
    "    D1 = Data.rename(index=str, columns={Data.columns[1]: \"Temperature\"})\n",
    "    # Set index\n",
    "    DM = D1.set_index('Time')\n",
    "    return DM"
   ]
  },
  {
   "cell_type": "code",
   "execution_count": 6,
   "metadata": {},
   "outputs": [],
   "source": [
    "DataM = [DC, DE, HL, JB, JM, KT, US]\n",
    "DataMLabels = ['Deep Cove', 'Discovery', 'Helgesen', 'James Bay', 'John Muir', 'Keating', 'UVicSci']"
   ]
  },
  {
   "cell_type": "code",
   "execution_count": 7,
   "metadata": {},
   "outputs": [],
   "source": [
    "DataMIns = [DateInsert(DataM[i]) for i in range(0, len(DataM))]\n",
    "\n",
    "DC = DataMIns[0]\n",
    "DE = DataMIns[1]\n",
    "HL = DataMIns[2]\n",
    "JB = DataMIns[3]\n",
    "JM = DataMIns[4]\n",
    "KT = DataMIns[5]\n",
    "US = DataMIns[6]"
   ]
  },
  {
   "cell_type": "code",
   "execution_count": null,
   "metadata": {},
   "outputs": [],
   "source": []
  },
  {
   "cell_type": "markdown",
   "metadata": {},
   "source": [
    "## Plot the map"
   ]
  },
  {
   "cell_type": "code",
   "execution_count": 8,
   "metadata": {},
   "outputs": [],
   "source": [
    "# Here's the map\n",
    "StationLoc = list(AS)\n",
    "Lon = np.array([float(list(AS)[i][0]) for i in range(1, np.shape(list(AS))[0])])\n",
    "Lat = np.array([float(list(AS)[i][1]) for i in range(1, np.shape(list(AS))[0])])\n",
    "\n",
    "def map(title='WHAT\\'S THE THE TITLE YOU DONKEY?!?!?', size=(6, 6), land='#FFFFFF', water='#FFFFFF'):\n",
    "    fig, ax = plt.subplots(1, 1, figsize=size)\n",
    "    ax.fill(MAP['Lon'], MAP['Lat'], land, zorder=0, label='')\n",
    "    ax.plot(MAP['Lon'], MAP['Lat'], linewidth=size[0]/12, color='k', zorder=1, label='')\n",
    "\n",
    "    ax.xaxis.set_major_formatter(StrMethodFormatter(r'{x:.1f}$^\\circ$W'))\n",
    "    ax.yaxis.set_major_formatter(StrMethodFormatter(r'{x:.2f}$^\\circ$N'))\n",
    "    mp.rc('xtick', labelsize=size[0]*1.7) \n",
    "    mp.rc('ytick', labelsize=size[0]*1.7) \n",
    "    plt.xticks(rotation=10)\n",
    "    \n",
    "    # Old and depricated string format:\n",
    "    # Map2.xaxis.set_major_formatter(FormatStrFormatter(r'%1.1f$^\\circ$W'))\n",
    "    # Map2.yaxis.set_major_formatter(FormatStrFormatter(r'%1.2f$^\\circ$N'))\n",
    "\n",
    "    ax.set_xlim(-123.8, -123.25)\n",
    "    ax.set_ylim(48.325, 48.725)\n",
    "    ax.grid(dashes=(1,1), color='#555555', linewidth=size[0]/6)\n",
    "    ax.set_facecolor(water)\n",
    "\n",
    "    maptitle = title\n",
    "    ax.set_title(\"\\n\".join(wrap(maptitle, 50)), fontsize=size[0]*2.25)\n",
    "    ax.set_xlabel(r'Longitude', fontsize=size[0]*2)\n",
    "    ax.set_ylabel(r'Latitude', fontsize=size[0]*2)"
   ]
  },
  {
   "cell_type": "code",
   "execution_count": 9,
   "metadata": {},
   "outputs": [],
   "source": [
    "# Basemap version MAP\n",
    "# -------------------\n",
    "# mapx = 8\n",
    "# mapy = 8\n",
    "\n",
    "# plt.figure('Map', figsize=(mapx, mapy))\n",
    "# Map = Basemap(projection='gnom', lat_0 = 48.53, lon_0 = -123.50, \n",
    "#                 width=mapx/2 * 10**4, height=mapy/2 * 10**4, resolution='f')\n",
    "\n",
    "# lon, lat = Map(Lon, Lat)\n",
    "\n",
    "# Map.fillcontinents(color=\"#c6ebc6\", lake_color='#DDEEFF')\n",
    "# Map.drawmapboundary(fill_color=\"#DDEEFF\")\n",
    "# Map.drawcoastlines()\n",
    "# Map.drawparallels(np.arange(48.3, 49, 0.05), labels=[0, 1, 1, 0])\n",
    "# Map.drawmeridians(np.arange(-124.0, -123.3, 0.1), labels=[1, 0, 0, 1])\n",
    "\n",
    "# maptitle = 'Location of weather temperature measurement stations in south-east Vancouver Island'\n",
    "# plt.title(\"\\n\".join(wrap(maptitle, 80)))\n",
    "# # plt.xlabel('Longitude')\n",
    "# # plt.ylabel('Latitude')\n",
    "# Map.plot(lon, lat, marker='o', color='#CC00CC', markersize=4, linewidth=0)\n",
    "# plt.show()"
   ]
  },
  {
   "cell_type": "code",
   "execution_count": 10,
   "metadata": {},
   "outputs": [
    {
     "data": {
      "application/pdf": "[encoded data removed]",
      "text/plain": [
       "<Figure size 432x432 with 1 Axes>"
      ]
     },
     "metadata": {
      "needs_background": "light"
     },
     "output_type": "display_data"
    }
   ],
   "source": [
    "# Plot the base stations\n",
    "map2title = 'Location of weather temperature measurement stations in south-east Vancouver Island'\n",
    "map(map2title, land='#CCEECC', water='#DDEEFF')\n",
    "plt.scatter(Lon, Lat, marker='o', s=10, color='#CC00CC', zorder=2)\n",
    "plt.show()"
   ]
  },
  {
   "cell_type": "code",
   "execution_count": null,
   "metadata": {},
   "outputs": [],
   "source": []
  },
  {
   "cell_type": "markdown",
   "metadata": {},
   "source": [
    "## Plot the heatmap "
   ]
  },
  {
   "cell_type": "code",
   "execution_count": 11,
   "metadata": {},
   "outputs": [],
   "source": [
    "t_int = ['2017-01-01 00:00', '2017-02-01 23:00']\n",
    "AS_Plot = AS.loc[t_int[0] : t_int[1]]\n",
    "\n",
    "# Date ranges to cover \n",
    "t_range = pd.date_range(AS_Plot.index[0], AS_Plot.index[-1], freq='D')\n",
    "# Spacing of xtick lables in the heatmap\n",
    "spacing = int(np.shape(AS_Plot)[0]/len(t_range))"
   ]
  },
  {
   "cell_type": "code",
   "execution_count": null,
   "metadata": {},
   "outputs": [],
   "source": [
    "fig, ax = plt.subplots(figsize=(20, 4))\n",
    "\n",
    "# Plot the heatmap\n",
    "AS_HM = sns.heatmap(data=AS_Plot.transpose(), cmap='bwr', xticklabels=spacing)\n",
    "\n",
    "# Change the xticks format \n",
    "xticks = AS_HM.get_xticks()\n",
    "xformat = [i.strftime('%d-%m-%Y') for i in t_range]\n",
    "plt.xticks(xticks, xformat, rotation=90)\n",
    "\n",
    "# Change the yticks format \n",
    "yticks = AS_HM.get_yticks()\n",
    "# yformat = [(list(AS)[i][0], list(AS)[i][1]) for i in range(37)]\n",
    "yformat = list(AS)\n",
    "# AS_HM.set_yticklabels(yticks, yformat)\n",
    "\n",
    "plt.ylabel('Location')\n",
    "plt.title('Heat Map from {0} to {1}'.format(t_int[0], t_int[1]))\n",
    "sns.despine()\n",
    "plt.show()"
   ]
  },
  {
   "cell_type": "code",
   "execution_count": null,
   "metadata": {},
   "outputs": [],
   "source": [
    "# [list(AS)[0].format(x*10) for x in list(AS)]\n",
    "list(AS)"
   ]
  },
  {
   "cell_type": "code",
   "execution_count": null,
   "metadata": {},
   "outputs": [],
   "source": [
    "list(AS)[10][1]"
   ]
  },
  {
   "cell_type": "code",
   "execution_count": null,
   "metadata": {},
   "outputs": [],
   "source": [
    "print(b[i])"
   ]
  },
  {
   "cell_type": "code",
   "execution_count": null,
   "metadata": {},
   "outputs": [],
   "source": []
  }
 ],
 "metadata": {
  "kernelspec": {
   "display_name": "Python 3",
   "language": "python",
   "name": "python3"
  },
  "language_info": {
   "codemirror_mode": {
    "name": "ipython",
    "version": 3
   },
   "file_extension": ".py",
   "mimetype": "text/x-python",
   "name": "python",
   "nbconvert_exporter": "python",
   "pygments_lexer": "ipython3",
   "version": "3.7.1"
  }
 },
 "nbformat": 4,
 "nbformat_minor": 2
}
