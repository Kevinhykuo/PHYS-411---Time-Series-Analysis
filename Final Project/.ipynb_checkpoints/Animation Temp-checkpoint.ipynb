{
 "cells": [
  {
   "cell_type": "markdown",
   "metadata": {},
   "source": [
    "# Temperature Animation"
   ]
  },
  {
   "cell_type": "code",
   "execution_count": 1,
   "metadata": {},
   "outputs": [],
   "source": [
    "import numpy as np\n",
    "import pandas as pd \n",
    "import scipy as sci\n",
    "import matplotlib as mp\n",
    "import matplotlib.pyplot as plt\n",
    "import seaborn as sns\n",
    "import datetime as dt\n",
    "import animatplot as amp\n",
    "import matplotlib.colors as colors\n",
    "\n",
    "from itertools import chain\n",
    "from numpy import pi, cos, sin, exp, sqrt\n",
    "from scipy.signal import freqz, welch, periodogram, butter, lfilter, filtfilt, boxcar, ricker, cwt, ellip, csd\n",
    "from scipy.interpolate import griddata\n",
    "from scipy.spatial import Voronoi, voronoi_plot_2d\n",
    "\n",
    "from matplotlib import animation\n",
    "from matplotlib.dates import DateFormatter, MinuteLocator, HourLocator, MonthLocator\n",
    "from matplotlib.ticker import FormatStrFormatter, StrMethodFormatter\n",
    "from matplotlib.ticker import FixedFormatter\n",
    "\n",
    "from textwrap import wrap\n",
    "\n",
    "%matplotlib inline\n",
    "%config InlineBackend.figure_format = 'pdf'\n",
    "# %matplotlib notebook"
   ]
  },
  {
   "cell_type": "markdown",
   "metadata": {},
   "source": [
    "## Import and clean up the data"
   ]
  },
  {
   "cell_type": "code",
   "execution_count": 2,
   "metadata": {},
   "outputs": [],
   "source": [
    "# Import data\n",
    "# All data (hour resolution)\n",
    "AS = pd.read_csv('/Users/Kev/Documents/Uvic/Python/PHYS 411 - Time Series Analysis/Data Sets/AllStations_temperature_h_2017.dat', \n",
    "                 sep='\\s+', header=[0, 1])"
   ]
  },
  {
   "cell_type": "code",
   "execution_count": 3,
   "metadata": {},
   "outputs": [],
   "source": [
    "# Individual stations (minuite resolution)\n",
    "DC = pd.read_csv('/Users/Kev/Documents/Uvic/Python/PHYS 411 - Time Series Analysis/Data Sets/DeepCove_temperature.dat', \n",
    "                 header=2)\n",
    "\n",
    "DE = pd.read_csv('/Users/Kev/Documents/Uvic/Python/PHYS 411 - Time Series Analysis/Data Sets/DiscoveryElementary_temperature.dat', \n",
    "                 header=2)\n",
    "\n",
    "HL = pd.read_csv('/Users/Kev/Documents/Uvic/Python/PHYS 411 - Time Series Analysis/Data Sets/Helgesen_temperature.dat', \n",
    "                 header=2)\n",
    "\n",
    "JB = pd.read_csv('/Users/Kev/Documents/Uvic/Python/PHYS 411 - Time Series Analysis/Data Sets/JamesBay_temperature.dat', \n",
    "                 header=2)\n",
    "\n",
    "JM = pd.read_csv('/Users/Kev/Documents/Uvic/Python/PHYS 411 - Time Series Analysis/Data Sets/JohnMuir_temperature.dat', \n",
    "                 header=2)\n",
    "\n",
    "KT = pd.read_csv('/Users/Kev/Documents/Uvic/Python/PHYS 411 - Time Series Analysis/Data Sets/Keating_temperature.dat', \n",
    "                 header=2)\n",
    "\n",
    "US = pd.read_csv('/Users/Kev/Documents/Uvic/Python/PHYS 411 - Time Series Analysis/Data Sets/UVicSci_temperature.dat', \n",
    "                 header=2)\n",
    "\n",
    "# Coastline \n",
    "MAP = pd.read_csv('/Users/Kev/Documents/Uvic/Python/PHYS 411 - Time Series Analysis/Data Sets/DataCoast.dat', \n",
    "                 sep='\\s+', names = [\"Lon\", \"Lat\"])"
   ]
  },
  {
   "cell_type": "markdown",
   "metadata": {},
   "source": [
    "### Clean up the All Stations data"
   ]
  },
  {
   "cell_type": "code",
   "execution_count": 4,
   "metadata": {},
   "outputs": [],
   "source": [
    "# Convert times from MatLab time to Python Time\n",
    "AS['Time'] = AS['NaN', 'NaN'].apply(lambda matlab_datenum: \n",
    "                             dt.datetime.fromordinal(int(matlab_datenum)) \n",
    "                             + dt.timedelta(days=matlab_datenum%1)\n",
    "                             - dt.timedelta(days = 366)) \n",
    "\n",
    "# Rename the columns\n",
    "AS2 = AS.rename(index=str, columns={\"NaN\": \"MatLab Time\"})\n",
    "\n",
    "# Set time as index column\n",
    "AS3 = AS2.set_index('Time')\n",
    "\n",
    "# Get the longitudes correct \n",
    "for i in range(1, np.shape(AS3)[1]):\n",
    "    New_name = float(list(AS3)[i][1]) - 360\n",
    "    AS3 = AS3.rename(columns={list(AS)[i][1]: str(format(New_name, '.4f'))})\n",
    "\n",
    "AS4 = AS3.drop('MatLab Time', axis=1, level=1)\n",
    "    \n",
    "AS = AS4"
   ]
  },
  {
   "cell_type": "code",
   "execution_count": 5,
   "metadata": {},
   "outputs": [],
   "source": [
    "# De-Nan\n",
    "AS_DN = AS.dropna(axis=0)"
   ]
  },
  {
   "cell_type": "markdown",
   "metadata": {},
   "source": [
    "### Clean up the minute resolution data"
   ]
  },
  {
   "cell_type": "code",
   "execution_count": 6,
   "metadata": {},
   "outputs": [],
   "source": [
    "def DateInsert(Data):\n",
    "    date = pd.date_range(start='2011-12-31 17:00:00.000000', \n",
    "                     freq='min', periods = len(Data))\n",
    "    # Insert dates into D2 dataframe\n",
    "    Data.insert(loc=0, column='Time', value=date)\n",
    "    # Rename the columns\n",
    "    D1 = Data.rename(index=str, columns={Data.columns[1]: \"Temperature\"})\n",
    "    # Set index\n",
    "    DM = D1.set_index('Time')\n",
    "    return DM"
   ]
  },
  {
   "cell_type": "code",
   "execution_count": 7,
   "metadata": {},
   "outputs": [],
   "source": [
    "DataM = [DC, DE, HL, JB, JM, KT, US]\n",
    "DataMLabels = ['Deep Cove', 'Discovery', 'Helgesen', 'James Bay', 'John Muir', 'Keating', 'UVicSci']"
   ]
  },
  {
   "cell_type": "code",
   "execution_count": 8,
   "metadata": {},
   "outputs": [],
   "source": [
    "DataMIns = [DateInsert(DataM[i]) for i in range(0, len(DataM))]"
   ]
  },
  {
   "cell_type": "code",
   "execution_count": 9,
   "metadata": {},
   "outputs": [],
   "source": [
    "Mn = {\n",
    "    \"DC\" : DataMIns[0].rename(columns={\"Temperature\": \"DC\"}),\n",
    "    \"DE\" : DataMIns[1].rename(columns={\"Temperature\": \"DE\"}),\n",
    "    \"HL\" : DataMIns[2].rename(columns={\"Temperature\": \"HL\"}),\n",
    "    \"JB\" : DataMIns[3].rename(columns={\"Temperature\": \"JB\"}),\n",
    "    \"JM\" : DataMIns[4].rename(columns={\"Temperature\": \"JM\"}),\n",
    "    \"KT\" : DataMIns[5].rename(columns={\"Temperature\": \"KT\"}),\n",
    "    \"US\" : DataMIns[6].rename(columns={\"Temperature\": \"US\"})\n",
    "}"
   ]
  },
  {
   "cell_type": "code",
   "execution_count": 10,
   "metadata": {},
   "outputs": [],
   "source": [
    "# De-Nan\n",
    "Mn_DN  = {\n",
    "    \"DC\" : Mn[\"DC\"].dropna(axis=0),\n",
    "    \"DE\" : Mn[\"DE\"].dropna(axis=0),\n",
    "    \"HL\" : Mn[\"HL\"].dropna(axis=0),\n",
    "    \"JB\" : Mn[\"JB\"].dropna(axis=0),\n",
    "    \"JM\" : Mn[\"JM\"].dropna(axis=0),\n",
    "    \"KT\" : Mn[\"KT\"].dropna(axis=0),\n",
    "    \"US\" : Mn[\"US\"].dropna(axis=0)\n",
    "}"
   ]
  },
  {
   "cell_type": "code",
   "execution_count": 11,
   "metadata": {},
   "outputs": [],
   "source": [
    "# Matrix of all the minute resolution data\n",
    "MS = pd.concat([Mn['DC'], Mn['DE'], Mn['HL'], Mn['JB'], Mn['JM'], Mn['KT'], Mn['US']], axis=1, sort=True)"
   ]
  },
  {
   "cell_type": "markdown",
   "metadata": {},
   "source": [
    "### Get station locations"
   ]
  },
  {
   "cell_type": "code",
   "execution_count": 12,
   "metadata": {},
   "outputs": [],
   "source": [
    "# Station locations\n",
    "StationLoc = list(AS)\n",
    "Lon = np.array([float(list(AS)[i][1]) for i in range(1, np.shape(list(AS))[0])])\n",
    "Lat = np.array([float(list(AS)[i][0]) for i in range(1, np.shape(list(AS))[0])])"
   ]
  },
  {
   "cell_type": "markdown",
   "metadata": {},
   "source": [
    "## Create meshgrid for interpolation"
   ]
  },
  {
   "cell_type": "code",
   "execution_count": 13,
   "metadata": {},
   "outputs": [],
   "source": [
    "step_size = 0.001\n",
    "x = np.arange(np.min(MAP['Lon']), np.max(MAP['Lon']), step_size)\n",
    "y = np.arange(np.min(MAP['Lat']), np.max(MAP['Lat']), step_size)\n",
    "\n",
    "X, Y = np.meshgrid(x, y)\n",
    "\n",
    "# Get the locations of the data\n",
    "AS_loc = np.array([[float(AS.columns.values[i][1]), float(AS.columns.values[i][0])] for i in range(len(AS.columns.values))])"
   ]
  },
  {
   "cell_type": "markdown",
   "metadata": {},
   "source": [
    "## Useful functions"
   ]
  },
  {
   "cell_type": "markdown",
   "metadata": {},
   "source": [
    "### Maps and dimensions "
   ]
  },
  {
   "cell_type": "code",
   "execution_count": 14,
   "metadata": {},
   "outputs": [],
   "source": [
    "# Get dimensions \n",
    "def get_dim(x=X, y=Y):\n",
    "    dim = [np.min(x), np.max(x), np.min(y), np.max(y)]\n",
    "    Dim = [float(dim[n]) for n in range(len(dim))]\n",
    "    return Dim"
   ]
  },
  {
   "cell_type": "code",
   "execution_count": 15,
   "metadata": {},
   "outputs": [],
   "source": [
    "# Draw the map\n",
    "def map(title='WHAT\\'S THE THE TITLE YOU DONKEY?!?!?', size=(10, 10), land='#FFFFFF', water='#FFFFFF'):\n",
    "    fig, ax = plt.subplots(1, 1, figsize=size)\n",
    "    \n",
    "    AddPoints = pd.DataFrame([[MAP['Lon'].min()-0.1, MAP['Lat'].min()-0.1], [MAP['Lon'].max()+0.1, MAP['Lat'].min()-0.1], [MAP['Lon'].max()+0.1, MAP['Lat'].max()+0.1]], columns=['Lon', 'Lat'])\n",
    "    MAPIn = MAP.append(AddPoints, ignore_index=True)\n",
    "    \n",
    "    ax.fill(MAP['Lon'], MAP['Lat'], land, zorder=0, label='')\n",
    "    ax.fill(MAPIn['Lon'], MAPIn['Lat'], water, zorder=2, label='')\n",
    "    ax.plot(MAP['Lon'], MAP['Lat'], linewidth=np.min(size)/12, color='k', zorder=3, label='')\n",
    "\n",
    "    ax.xaxis.set_major_formatter(StrMethodFormatter(r'{x:.1f}$^\\circ$W'))\n",
    "    ax.yaxis.set_major_formatter(StrMethodFormatter(r'{x:.2f}$^\\circ$N'))\n",
    "    mp.rc('xtick', labelsize=np.min(size)*1.7) \n",
    "    mp.rc('ytick', labelsize=np.min(size)*1.7) \n",
    "    plt.xticks(rotation=0)\n",
    "    \n",
    "    # Old and depricated string format:\n",
    "    # Map2.xaxis.set_major_formatter(FormatStrFormatter(r'%1.1f$^\\circ$W'))\n",
    "    # Map2.yaxis.set_major_formatter(FormatStrFormatter(r'%1.2f$^\\circ$N'))\n",
    "\n",
    "    ax.set_xlim(-123.8, -123.25)\n",
    "    ax.set_ylim(48.325, 48.725)\n",
    "#     ax.grid(dashes=(1,1), color='#555555', zorder=0, linewidth=size[0]/6)\n",
    "    ax.set_facecolor(water)\n",
    "    \n",
    "    ax.set_aspect('equal')\n",
    "    maptitle = title\n",
    "    ax.set_title(\"\\n\".join(wrap(maptitle, 50)), fontsize=np.min(size)*2.25)\n",
    "    ax.set_xlabel(r'Longitude', fontsize=np.min(size)*2)\n",
    "    ax.set_ylabel(r'Latitude', fontsize=np.min(size)*2)"
   ]
  },
  {
   "cell_type": "markdown",
   "metadata": {},
   "source": [
    "## Temperature range"
   ]
  },
  {
   "cell_type": "code",
   "execution_count": null,
   "metadata": {},
   "outputs": [],
   "source": [
    "TempRS = AS_DN['2012-05-01':'2012-06-01'] #.resample('min').mean()\n",
    "# TempRS = AS_DN.iloc[]"
   ]
  },
  {
   "cell_type": "code",
   "execution_count": null,
   "metadata": {},
   "outputs": [],
   "source": [
    "Temp_H = np.array([griddata(AS_loc, TempRS.iloc[i], (X, Y), method='cubic') for i in range(len(np.array(TempRS)))])"
   ]
  },
  {
   "cell_type": "markdown",
   "metadata": {},
   "source": [
    "### Attempt animation"
   ]
  },
  {
   "cell_type": "code",
   "execution_count": 16,
   "metadata": {},
   "outputs": [],
   "source": [
    "def heatmap_ani(Array, index=i,  D=get_dim(), colourmap='coolwarm', size=(10, 8), title='TITLE DONKEY!!!', \n",
    "            units=r'Temperature difference from mean [$^\\circ$C]', interp='none', land='#FFFFFF', water='#EEEEEE', normalize=True):\n",
    "    \n",
    "    AddPoints = pd.DataFrame([[MAP['Lon'].min()-0.1, MAP['Lat'].min()-0.1], [MAP['Lon'].max()+0.1, MAP['Lat'].min()-0.1], [MAP['Lon'].max()+0.1, MAP['Lat'].max()+0.1]], columns=['Lon', 'Lat'])\n",
    "    MAPIn = MAP.append(AddPoints, ignore_index=True)\n",
    "    \n",
    "    ax.fill(MAP['Lon'], MAP['Lat'], land, zorder=0, label='')\n",
    "    ax.fill(MAPIn['Lon'], MAPIn['Lat'], water, zorder=2, label='')\n",
    "    ax.plot(MAP['Lon'], MAP['Lat'], linewidth=np.min(size)/12, color='k', zorder=3, label='')\n",
    "\n",
    "    ax.xaxis.set_major_formatter(StrMethodFormatter(r'{x:.1f}$^\\circ$W'))\n",
    "    ax.yaxis.set_major_formatter(StrMethodFormatter(r'{x:.2f}$^\\circ$N'))\n",
    "    mp.rc('xtick', labelsize=np.min(size)*1.7) \n",
    "    mp.rc('ytick', labelsize=np.min(size)*1.7) \n",
    "    plt.xticks(rotation=0)\n",
    "    \n",
    "    ax.set_xlim(-123.8, -123.25)\n",
    "    ax.set_ylim(48.325, 48.725)\n",
    "#     ax.grid(dashes=(1,1), color='#555555', zorder=0, linewidth=size[0]/6)\n",
    "    ax.set_facecolor(water)\n",
    "    \n",
    "    ax.set_aspect('equal')\n",
    "    maptitle = title\n",
    "    ax.set_title(\"\\n\".join(wrap(maptitle, 50)), fontsize=np.min(size)*2.25)\n",
    "    ax.set_xlabel(r'Longitude', fontsize=np.min(size)*2)\n",
    "    ax.set_ylabel(r'Latitude', fontsize=np.min(size)*2)\n",
    "    \n",
    "    # Plot heatmap\n",
    "    ax.scatter(Lon, Lat, marker='o', s=5, color='k', zorder=1)\n",
    "    Array_plot = ax.imshow(Array[index], extent=D, origin='lower', cmap=colourmap, interpolation=interp)\n",
    "    cb = plt.colorbar(Array_plot, shrink=0.7, aspect=20, format='%.3f', label=units)\n",
    "    cb.set_label(label=units, fontsize=np.min(size)*2)\n",
    "    if normalize==True:\n",
    "        plt.clim(np.nanmin(Array), np.nanmax(Array))\n",
    "    \n",
    "def ani_Temp(frame):\n",
    "    A = heatmap_ani(Array=Temp_H, index=frame, units=r'Temperature [$^\\circ$C]', \n",
    "                    title='Temperature at {0}'.format(TempRS.index[frame].strftime(\"%Y-%b-%d %H:%M\")), normalize=False)"
   ]
  },
  {
   "cell_type": "code",
   "execution_count": 17,
   "metadata": {},
   "outputs": [
    {
     "name": "stderr",
     "output_type": "stream",
     "text": [
      "Traceback (most recent call last):\n",
      "  File \"/Users/Kev/anaconda3/lib/python3.7/site-packages/matplotlib/cbook/__init__.py\", line 215, in process\n",
      "    func(*args, **kwargs)\n",
      "  File \"/Users/Kev/anaconda3/lib/python3.7/site-packages/matplotlib/animation.py\", line 999, in _start\n",
      "    self._init_draw()\n",
      "  File \"/Users/Kev/anaconda3/lib/python3.7/site-packages/matplotlib/animation.py\", line 1740, in _init_draw\n",
      "    self._draw_frame(next(self.new_frame_seq()))\n",
      "  File \"/Users/Kev/anaconda3/lib/python3.7/site-packages/matplotlib/animation.py\", line 1762, in _draw_frame\n",
      "    self._drawn_artists = self._func(framedata, *self._args)\n",
      "  File \"<ipython-input-16-f6820a4cf6c1>\", line 37, in ani_Temp\n",
      "    A = heatmap_ani(Array=Temp_H, index=frame, units=r'Temperature [$^\\circ$C]',\n",
      "NameError: name 'Temp_H' is not defined\n"
     ]
    },
    {
     "data": {
      "application/pdf": "[encoded data removed]",
      "text/plain": [
       "<Figure size 720x432 with 1 Axes>"
      ]
     },
     "metadata": {
      "needs_background": "light"
     },
     "output_type": "display_data"
    }
   ],
   "source": [
    "fig, ax = plt.subplots(1, 1, figsize=(10, 6))\n",
    "ani_temp = animation.FuncAnimation(fig, ani_Temp, 48, interval=0.5*10**3, blit=False)"
   ]
  },
  {
   "cell_type": "code",
   "execution_count": 18,
   "metadata": {},
   "outputs": [
    {
     "ename": "NameError",
     "evalue": "name 'Temp_H' is not defined",
     "output_type": "error",
     "traceback": [
      "\u001b[0;31m---------------------------------------------------------------------------\u001b[0m",
      "\u001b[0;31mNameError\u001b[0m                                 Traceback (most recent call last)",
      "\u001b[0;32m<ipython-input-18-3abcca92c292>\u001b[0m in \u001b[0;36m<module>\u001b[0;34m\u001b[0m\n\u001b[0;32m----> 1\u001b[0;31m \u001b[0mani_temp\u001b[0m\u001b[0;34m.\u001b[0m\u001b[0msave\u001b[0m\u001b[0;34m(\u001b[0m\u001b[0;34m'Test.mp4'\u001b[0m\u001b[0;34m,\u001b[0m \u001b[0mfps\u001b[0m\u001b[0;34m=\u001b[0m\u001b[0;36m6\u001b[0m\u001b[0;34m)\u001b[0m\u001b[0;34m\u001b[0m\u001b[0;34m\u001b[0m\u001b[0m\n\u001b[0m",
      "\u001b[0;32m~/anaconda3/lib/python3.7/site-packages/matplotlib/animation.py\u001b[0m in \u001b[0;36msave\u001b[0;34m(self, filename, writer, fps, dpi, codec, bitrate, extra_args, metadata, extra_anim, savefig_kwargs)\u001b[0m\n\u001b[1;32m   1167\u001b[0m                 \u001b[0;32mfor\u001b[0m \u001b[0manim\u001b[0m \u001b[0;32min\u001b[0m \u001b[0mall_anim\u001b[0m\u001b[0;34m:\u001b[0m\u001b[0;34m\u001b[0m\u001b[0;34m\u001b[0m\u001b[0m\n\u001b[1;32m   1168\u001b[0m                     \u001b[0;31m# Clear the initial frame\u001b[0m\u001b[0;34m\u001b[0m\u001b[0;34m\u001b[0m\u001b[0;34m\u001b[0m\u001b[0m\n\u001b[0;32m-> 1169\u001b[0;31m                     \u001b[0manim\u001b[0m\u001b[0;34m.\u001b[0m\u001b[0m_init_draw\u001b[0m\u001b[0;34m(\u001b[0m\u001b[0;34m)\u001b[0m\u001b[0;34m\u001b[0m\u001b[0;34m\u001b[0m\u001b[0m\n\u001b[0m\u001b[1;32m   1170\u001b[0m                 \u001b[0;32mfor\u001b[0m \u001b[0mdata\u001b[0m \u001b[0;32min\u001b[0m \u001b[0mzip\u001b[0m\u001b[0;34m(\u001b[0m\u001b[0;34m*\u001b[0m\u001b[0;34m[\u001b[0m\u001b[0ma\u001b[0m\u001b[0;34m.\u001b[0m\u001b[0mnew_saved_frame_seq\u001b[0m\u001b[0;34m(\u001b[0m\u001b[0;34m)\u001b[0m \u001b[0;32mfor\u001b[0m \u001b[0ma\u001b[0m \u001b[0;32min\u001b[0m \u001b[0mall_anim\u001b[0m\u001b[0;34m]\u001b[0m\u001b[0;34m)\u001b[0m\u001b[0;34m:\u001b[0m\u001b[0;34m\u001b[0m\u001b[0;34m\u001b[0m\u001b[0m\n\u001b[1;32m   1171\u001b[0m                     \u001b[0;32mfor\u001b[0m \u001b[0manim\u001b[0m\u001b[0;34m,\u001b[0m \u001b[0md\u001b[0m \u001b[0;32min\u001b[0m \u001b[0mzip\u001b[0m\u001b[0;34m(\u001b[0m\u001b[0mall_anim\u001b[0m\u001b[0;34m,\u001b[0m \u001b[0mdata\u001b[0m\u001b[0;34m)\u001b[0m\u001b[0;34m:\u001b[0m\u001b[0;34m\u001b[0m\u001b[0;34m\u001b[0m\u001b[0m\n",
      "\u001b[0;32m~/anaconda3/lib/python3.7/site-packages/matplotlib/animation.py\u001b[0m in \u001b[0;36m_init_draw\u001b[0;34m(self)\u001b[0m\n\u001b[1;32m   1738\u001b[0m         \u001b[0;31m# artists.\u001b[0m\u001b[0;34m\u001b[0m\u001b[0;34m\u001b[0m\u001b[0;34m\u001b[0m\u001b[0m\n\u001b[1;32m   1739\u001b[0m         \u001b[0;32mif\u001b[0m \u001b[0mself\u001b[0m\u001b[0;34m.\u001b[0m\u001b[0m_init_func\u001b[0m \u001b[0;32mis\u001b[0m \u001b[0;32mNone\u001b[0m\u001b[0;34m:\u001b[0m\u001b[0;34m\u001b[0m\u001b[0;34m\u001b[0m\u001b[0m\n\u001b[0;32m-> 1740\u001b[0;31m             \u001b[0mself\u001b[0m\u001b[0;34m.\u001b[0m\u001b[0m_draw_frame\u001b[0m\u001b[0;34m(\u001b[0m\u001b[0mnext\u001b[0m\u001b[0;34m(\u001b[0m\u001b[0mself\u001b[0m\u001b[0;34m.\u001b[0m\u001b[0mnew_frame_seq\u001b[0m\u001b[0;34m(\u001b[0m\u001b[0;34m)\u001b[0m\u001b[0;34m)\u001b[0m\u001b[0;34m)\u001b[0m\u001b[0;34m\u001b[0m\u001b[0;34m\u001b[0m\u001b[0m\n\u001b[0m\u001b[1;32m   1741\u001b[0m \u001b[0;34m\u001b[0m\u001b[0m\n\u001b[1;32m   1742\u001b[0m         \u001b[0;32melse\u001b[0m\u001b[0;34m:\u001b[0m\u001b[0;34m\u001b[0m\u001b[0;34m\u001b[0m\u001b[0m\n",
      "\u001b[0;32m~/anaconda3/lib/python3.7/site-packages/matplotlib/animation.py\u001b[0m in \u001b[0;36m_draw_frame\u001b[0;34m(self, framedata)\u001b[0m\n\u001b[1;32m   1760\u001b[0m         \u001b[0;31m# Call the func with framedata and args. If blitting is desired,\u001b[0m\u001b[0;34m\u001b[0m\u001b[0;34m\u001b[0m\u001b[0;34m\u001b[0m\u001b[0m\n\u001b[1;32m   1761\u001b[0m         \u001b[0;31m# func needs to return a sequence of any artists that were modified.\u001b[0m\u001b[0;34m\u001b[0m\u001b[0;34m\u001b[0m\u001b[0;34m\u001b[0m\u001b[0m\n\u001b[0;32m-> 1762\u001b[0;31m         \u001b[0mself\u001b[0m\u001b[0;34m.\u001b[0m\u001b[0m_drawn_artists\u001b[0m \u001b[0;34m=\u001b[0m \u001b[0mself\u001b[0m\u001b[0;34m.\u001b[0m\u001b[0m_func\u001b[0m\u001b[0;34m(\u001b[0m\u001b[0mframedata\u001b[0m\u001b[0;34m,\u001b[0m \u001b[0;34m*\u001b[0m\u001b[0mself\u001b[0m\u001b[0;34m.\u001b[0m\u001b[0m_args\u001b[0m\u001b[0;34m)\u001b[0m\u001b[0;34m\u001b[0m\u001b[0;34m\u001b[0m\u001b[0m\n\u001b[0m\u001b[1;32m   1763\u001b[0m         \u001b[0;32mif\u001b[0m \u001b[0mself\u001b[0m\u001b[0;34m.\u001b[0m\u001b[0m_blit\u001b[0m\u001b[0;34m:\u001b[0m\u001b[0;34m\u001b[0m\u001b[0;34m\u001b[0m\u001b[0m\n\u001b[1;32m   1764\u001b[0m             \u001b[0;32mif\u001b[0m \u001b[0mself\u001b[0m\u001b[0;34m.\u001b[0m\u001b[0m_drawn_artists\u001b[0m \u001b[0;32mis\u001b[0m \u001b[0;32mNone\u001b[0m\u001b[0;34m:\u001b[0m\u001b[0;34m\u001b[0m\u001b[0;34m\u001b[0m\u001b[0m\n",
      "\u001b[0;32m<ipython-input-16-f6820a4cf6c1>\u001b[0m in \u001b[0;36mani_Temp\u001b[0;34m(frame)\u001b[0m\n\u001b[1;32m     35\u001b[0m \u001b[0;34m\u001b[0m\u001b[0m\n\u001b[1;32m     36\u001b[0m \u001b[0;32mdef\u001b[0m \u001b[0mani_Temp\u001b[0m\u001b[0;34m(\u001b[0m\u001b[0mframe\u001b[0m\u001b[0;34m)\u001b[0m\u001b[0;34m:\u001b[0m\u001b[0;34m\u001b[0m\u001b[0;34m\u001b[0m\u001b[0m\n\u001b[0;32m---> 37\u001b[0;31m     A = heatmap_ani(Array=Temp_H, index=frame, units=r'Temperature [$^\\circ$C]', \n\u001b[0m\u001b[1;32m     38\u001b[0m                     title='Temperature at {0}'.format(TempRS.index[frame].strftime(\"%Y-%b-%d %H:%M\")), normalize=False)\n",
      "\u001b[0;31mNameError\u001b[0m: name 'Temp_H' is not defined"
     ]
    }
   ],
   "source": [
    "ani_temp.save('Test.mp4', fps=6)"
   ]
  }
 ],
 "metadata": {
  "kernelspec": {
   "display_name": "Python 3",
   "language": "python",
   "name": "python3"
  },
  "language_info": {
   "codemirror_mode": {
    "name": "ipython",
    "version": 3
   },
   "file_extension": ".py",
   "mimetype": "text/x-python",
   "name": "python",
   "nbconvert_exporter": "python",
   "pygments_lexer": "ipython3",
   "version": "3.7.1"
  }
 },
 "nbformat": 4,
 "nbformat_minor": 2
}
