{
 "cells": [
  {
   "cell_type": "markdown",
   "metadata": {},
   "source": [
    "# Assignment 5"
   ]
  },
  {
   "cell_type": "code",
   "execution_count": 1,
   "metadata": {},
   "outputs": [],
   "source": [
    "import numpy as np\n",
    "import pandas as pd \n",
    "import scipy as sci\n",
    "import matplotlib as mp\n",
    "import matplotlib.pyplot as plt\n",
    "import seaborn as sns\n",
    "import datetime as dt\n",
    "\n",
    "from itertools import chain\n",
    "from numpy import pi, cos, sin, exp, sqrt\n",
    "from scipy.signal import freqz, welch, periodogram, butter, lfilter, filtfilt, boxcar\n",
    "\n",
    "from matplotlib.dates import DateFormatter, MinuteLocator, HourLocator, MonthLocator\n",
    "from matplotlib.ticker import FormatStrFormatter, StrMethodFormatter\n",
    "from matplotlib.ticker import FixedFormatter\n",
    "\n",
    "from mpl_toolkits.basemap import Basemap\n",
    "from textwrap import wrap\n",
    "\n",
    "%matplotlib inline\n",
    "%config InlineBackend.figure_format = 'pdf'"
   ]
  },
  {
   "cell_type": "markdown",
   "metadata": {},
   "source": [
    "### Import data"
   ]
  },
  {
   "cell_type": "code",
   "execution_count": 2,
   "metadata": {},
   "outputs": [],
   "source": [
    "AS = pd.read_csv('/Users/Kev/Documents/Uvic/Python/PHYS 411 - Time Series Analysis/Data Sets/AllStations_temperature_h_2017.dat', \n",
    "                 sep='\\s+', header=[0, 1])\n",
    "\n",
    "DC = pd.read_csv('/Users/Kev/Documents/Uvic/Python/PHYS 411 - Time Series Analysis/Data Sets/DeepCove_temperature.dat', \n",
    "                 header=2)\n",
    "\n",
    "JB = pd.read_csv('/Users/Kev/Documents/Uvic/Python/PHYS 411 - Time Series Analysis/Data Sets/JamesBay_temperature.dat', \n",
    "                 header=2)"
   ]
  },
  {
   "cell_type": "markdown",
   "metadata": {},
   "source": [
    "### Clean up data"
   ]
  },
  {
   "cell_type": "code",
   "execution_count": 3,
   "metadata": {},
   "outputs": [],
   "source": [
    "# Clean up minute resolution data \n",
    "# -------------------------------\n",
    "\n",
    "def DateInsert(Data):\n",
    "    date = pd.date_range(start='2011-12-31 17:00:00.000000', \n",
    "                     freq='min', periods = len(Data))\n",
    "    # Insert dates into D2 dataframe\n",
    "    Data.insert(loc=0, column='Time', value=date)\n",
    "    # Rename the columns\n",
    "    D1 = Data.rename(index=str, columns={Data.columns[1]: \"Temperature\"})\n",
    "    # Set index\n",
    "    DM = D1.set_index('Time')\n",
    "    return DM\n",
    "\n",
    "DataM = [DC, JB]\n",
    "DataMLabels = ['Deep Cove', 'James Bay']\n",
    "\n",
    "# Insert dates\n",
    "DataMIns = [DateInsert(DataM[i]) for i in range(0, len(DataM))]"
   ]
  },
  {
   "cell_type": "code",
   "execution_count": 4,
   "metadata": {},
   "outputs": [],
   "source": [
    "# Clean up hour resolution data\n",
    "# -----------------------------\n",
    "\n",
    "# Convert times from MatLab time to Python Time\n",
    "AS['Time'] = AS['NaN', 'NaN'].apply(lambda matlab_datenum: \n",
    "                             dt.datetime.fromordinal(int(matlab_datenum)) \n",
    "                             + dt.timedelta(days=matlab_datenum%1)\n",
    "                             - dt.timedelta(days = 366)) \n",
    "\n",
    "# Rename the columns\n",
    "AS2 = AS.rename(index=str, columns={\"NaN\": \"MatLab Time\"})\n",
    "\n",
    "# Set time as index column\n",
    "AS3 = AS2.set_index('Time')\n",
    "\n",
    "# Get the longitudes correct \n",
    "for i in range(1, np.shape(AS3)[1]):\n",
    "    New_name = float(list(AS3)[i][1]) - 360\n",
    "    AS3 = AS3.rename(columns={list(AS)[i][1]: str(format(New_name, '.4f'))})\n",
    "\n",
    "AS4 = AS3.drop('MatLab Time', axis=1, level=1)\n",
    "    \n",
    "AS = AS4['48.4623']['-123.3090']"
   ]
  },
  {
   "cell_type": "markdown",
   "metadata": {},
   "source": [
    "### Select data time"
   ]
  },
  {
   "cell_type": "code",
   "execution_count": 5,
   "metadata": {},
   "outputs": [],
   "source": [
    "# Select dates\n",
    "DCs = DataMIns[0].loc['2015-06-01 00:00':'2015-09-30 23:59']['Temperature']\n",
    "JBs = DataMIns[1].loc['2015-06-01 00:00':'2015-09-30 23:59']['Temperature']\n",
    "DCw = DataMIns[0].loc['2014-11-01 00:00':'2015-02-28 23:59']['Temperature']\n",
    "JBw = DataMIns[1].loc['2014-11-01 00:00':'2015-02-28 23:59']['Temperature']\n",
    "\n",
    "US = AS.loc['2016-01-01 00:00':'2016-12-30 23:59']"
   ]
  },
  {
   "cell_type": "markdown",
   "metadata": {},
   "source": [
    "## Question 1: Power within a frequency band "
   ]
  },
  {
   "cell_type": "code",
   "execution_count": null,
   "metadata": {},
   "outputs": [],
   "source": []
  },
  {
   "cell_type": "markdown",
   "metadata": {},
   "source": [
    "## Question 2: Spatial interpolation "
   ]
  },
  {
   "cell_type": "code",
   "execution_count": null,
   "metadata": {},
   "outputs": [],
   "source": []
  },
  {
   "cell_type": "markdown",
   "metadata": {},
   "source": [
    "## Question 3: Interpolation"
   ]
  },
  {
   "cell_type": "code",
   "execution_count": null,
   "metadata": {},
   "outputs": [],
   "source": []
  }
 ],
 "metadata": {
  "kernelspec": {
   "display_name": "Python 3",
   "language": "python",
   "name": "python3"
  },
  "language_info": {
   "codemirror_mode": {
    "name": "ipython",
    "version": 3
   },
   "file_extension": ".py",
   "mimetype": "text/x-python",
   "name": "python",
   "nbconvert_exporter": "python",
   "pygments_lexer": "ipython3",
   "version": "3.7.1"
  }
 },
 "nbformat": 4,
 "nbformat_minor": 2
}
